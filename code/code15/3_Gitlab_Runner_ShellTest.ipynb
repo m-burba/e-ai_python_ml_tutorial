{
 "cells": [
  {
   "cell_type": "markdown",
   "id": "a5e30cec-162b-4f7b-b7fc-5318cc49a661",
   "metadata": {},
   "source": [
    "# 3_GitlabRunner_ShellTest – Running GitLab CI Jobs Locally\n",
    "\n",
    "This notebook demonstrates how to use `gitlab-runner` with the `shell` executor to test CI jobs directly on your local system. It enables fast, local validation of `.gitlab-ci.yml` configurations without requiring Docker or pushing to a remote GitLab server."
   ]
  },
  {
   "cell_type": "code",
   "execution_count": 5,
   "id": "97df6255-4869-4d69-833f-83265ef749b5",
   "metadata": {},
   "outputs": [
    {
     "name": "stdout",
     "output_type": "stream",
     "text": [
      "⚠️ Warning: This notebook is running inside Jupyter.\n",
      "   GitLab Runner with the 'shell' executor may fail due to missing login shell features.\n",
      "\n",
      "🔁 If this fails, open a terminal and run manually:\n",
      "   cd /home/rolan/gitlab_demo_shell\n",
      "   gitlab-runner exec shell pytest\n",
      "\n",
      "\n",
      "🚀 Running GitLab CI job using shell executor in: /home/rolan/gitlab_demo_shell\n",
      "\n",
      "❌ GitLab CI job failed.\n",
      "   Please try again in a regular terminal if this happened inside Jupyter.\n"
     ]
    }
   ],
   "source": [
    "import subprocess\n",
    "import os\n",
    "from pathlib import Path\n",
    "\n",
    "def in_jupyter():\n",
    "    try:\n",
    "        get_ipython\n",
    "        return True\n",
    "    except NameError:\n",
    "        return False\n",
    "\n",
    "home = Path.home()\n",
    "proj = home / \"gitlab_demo_shell\"\n",
    "env = os.environ.copy()\n",
    "env[\"PATH\"] = f\"{home}/bin:\" + env[\"PATH\"]\n",
    "env[\"SHELL\"] = \"/bin/bash\"\n",
    "\n",
    "proj.mkdir(parents=True, exist_ok=True)\n",
    "\n",
    "(proj / \"test_sample.py\").write_text(\"\"\"\\\n",
    "def add(a, b):\n",
    "    return a + b\n",
    "\n",
    "def test_add():\n",
    "    assert add(2, 2) == 4\n",
    "\"\"\")\n",
    "\n",
    "(proj / \".gitlab-ci.yml\").write_text(\"\"\"\\\n",
    "stages:\n",
    "  - test\n",
    "\n",
    "pytest:\n",
    "  stage: test\n",
    "  script:\n",
    "    - pytest\n",
    "\"\"\")\n",
    "\n",
    "if not (proj / \".git\").exists():\n",
    "    subprocess.run(\"git init\", shell=True, cwd=proj, env=env, stdout=subprocess.DEVNULL, stderr=subprocess.DEVNULL)\n",
    "    subprocess.run(\"git config user.name 'CI Tester'\", shell=True, cwd=proj, env=env)\n",
    "    subprocess.run(\"git config user.email 'ci@test.local'\", shell=True, cwd=proj, env=env)\n",
    "    subprocess.run(\"git add .\", shell=True, cwd=proj, env=env)\n",
    "    subprocess.run(\"git commit -m 'initial commit'\", shell=True, cwd=proj, env=env, stdout=subprocess.DEVNULL)\n",
    "\n",
    "if in_jupyter():\n",
    "    print(\"⚠️ Warning: This notebook is running inside Jupyter.\")\n",
    "    print(\"   GitLab Runner with the 'shell' executor may fail due to missing login shell features.\\n\")\n",
    "    print(\"🔁 If this fails, open a terminal and run manually:\")\n",
    "    print(f\"   cd {proj}\")\n",
    "    print(\"   gitlab-runner exec shell pytest\\n\")\n",
    "\n",
    "print(f\"\\n🚀 Running GitLab CI job using shell executor in: {proj}\\n\")\n",
    "\n",
    "try:\n",
    "    subprocess.run(\n",
    "        \"gitlab-runner exec shell pytest\",\n",
    "        shell=True,\n",
    "        cwd=proj,\n",
    "        env=env,\n",
    "        stdout=subprocess.DEVNULL,\n",
    "        stderr=subprocess.DEVNULL,\n",
    "        check=True\n",
    "    )\n",
    "    print(\"✅ GitLab CI job ran successfully (shell executor).\")\n",
    "except subprocess.CalledProcessError:\n",
    "    print(\"❌ GitLab CI job failed.\")\n",
    "    print(\"   Please try again in a regular terminal if this happened inside Jupyter.\")\n"
   ]
  },
  {
   "cell_type": "code",
   "execution_count": null,
   "id": "b3ec1595-c2fa-4281-822e-ff28453e8f43",
   "metadata": {},
   "outputs": [],
   "source": []
  }
 ],
 "metadata": {
  "kernelspec": {
   "display_name": "Python 3 (ipykernel)",
   "language": "python",
   "name": "python3"
  },
  "language_info": {
   "codemirror_mode": {
    "name": "ipython",
    "version": 3
   },
   "file_extension": ".py",
   "mimetype": "text/x-python",
   "name": "python",
   "nbconvert_exporter": "python",
   "pygments_lexer": "ipython3",
   "version": "3.12.3"
  }
 },
 "nbformat": 4,
 "nbformat_minor": 5
}
