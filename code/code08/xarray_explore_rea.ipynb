{
 "cells": [
  {
   "cell_type": "code",
   "execution_count": null,
   "metadata": {},
   "outputs": [],
   "source": [
    "import numpy as np\n",
    "import datetime as dt\n",
    "import xarray\n",
    "import matplotlib.pyplot as plt\n",
    "import cartopy.crs as ccrs\n",
    "import pandas as pd"
   ]
  },
  {
   "cell_type": "markdown",
   "metadata": {},
   "source": [
    "# download some direct monthly radiation data from cosmo rea6g2"
   ]
  },
  {
   "cell_type": "code",
   "execution_count": null,
   "metadata": {},
   "outputs": [],
   "source": [
    "# !wget https://opendata.dwd.de/climate_environment/REA/COSMO_R6G2/monthly/mon_rsdsdir/rsdsdir_EUR-6km_ECMWF-ERA5_R6G2_r1i1p1f1_COSMOv5_v1_mon_202201-202212.nc"
   ]
  },
  {
   "cell_type": "markdown",
   "metadata": {},
   "source": [
    "# read the downloaded data"
   ]
  },
  {
   "cell_type": "code",
   "execution_count": null,
   "metadata": {},
   "outputs": [],
   "source": [
    "ifile = 'rsdsdir_EUR-6km_ECMWF-ERA5_R6G2_r1i1p1f1_COSMOv5_v1_mon_202201-202212.nc'\n",
    "ds = xarray.open_dataset(ifile)\n",
    "ds"
   ]
  },
  {
   "cell_type": "markdown",
   "metadata": {},
   "source": [
    "# plotting via xarray backend"
   ]
  },
  {
   "cell_type": "markdown",
   "metadata": {},
   "source": [
    "## quickplot of data: histogram"
   ]
  },
  {
   "cell_type": "code",
   "execution_count": null,
   "metadata": {},
   "outputs": [],
   "source": [
    "ds['rsdsdir'].plot()"
   ]
  },
  {
   "cell_type": "markdown",
   "metadata": {},
   "source": [
    "## plot one timestep on map"
   ]
  },
  {
   "cell_type": "code",
   "execution_count": null,
   "metadata": {},
   "outputs": [],
   "source": [
    "ds['rsdsdir'].isel(time=0).plot.pcolormesh(y='latitude', x='longitude',\n",
    "       subplot_kws=dict(projection=ccrs.Orthographic(), facecolor=\"gray\"),transform=ccrs.PlateCarree())\n",
    "plt.gca().coastlines();"
   ]
  },
  {
   "cell_type": "markdown",
   "metadata": {},
   "source": [
    "## plot several timesteps using FacetGrid plotting"
   ]
  },
  {
   "cell_type": "code",
   "execution_count": null,
   "metadata": {},
   "outputs": [],
   "source": [
    "p=ds['rsdsdir'].isel(time=np.arange(4)).plot.pcolormesh(y='latitude', x='longitude', col='time',col_wrap=2,\n",
    "       subplot_kws=dict(projection=ccrs.Orthographic(), facecolor=\"gray\"),transform=ccrs.PlateCarree())\n",
    "for ax in p.axs.flat:\n",
    "    ax.coastlines();"
   ]
  },
  {
   "cell_type": "markdown",
   "metadata": {},
   "source": [
    "## optimize plotting by creating month as coordinate & dimension"
   ]
  },
  {
   "cell_type": "code",
   "execution_count": null,
   "metadata": {},
   "outputs": [],
   "source": [
    "pdtime = pd.to_datetime(ds['rsdsdir'].time)\n",
    "ds['month'] = xarray.DataArray(data=pdtime.strftime('%b') + ' 2022', coords={'time':(ds.time.dims,ds.time.values)})\n",
    "ds = ds.assign_coords(dict(**ds.coords,month=ds.month) )\n",
    "ds.month"
   ]
  },
  {
   "cell_type": "code",
   "execution_count": null,
   "metadata": {},
   "outputs": [],
   "source": [
    "ds = ds.swap_dims(time='month')\n",
    "ds"
   ]
  },
  {
   "cell_type": "code",
   "execution_count": null,
   "metadata": {},
   "outputs": [],
   "source": [
    "p=ds['rsdsdir'].isel(month=np.arange(4)).plot.pcolormesh(y='latitude', x='longitude', col='month',col_wrap=2,\n",
    "       subplot_kws=dict(projection=ccrs.Orthographic(), facecolor=\"gray\"),\n",
    "       transform=ccrs.PlateCarree())\n",
    "for ax in p.axs.flat:\n",
    "    ax.coastlines()"
   ]
  },
  {
   "cell_type": "markdown",
   "metadata": {},
   "source": [
    "# some statistics"
   ]
  },
  {
   "cell_type": "markdown",
   "metadata": {},
   "source": [
    "## mean monthly direct radiation in the whole domain"
   ]
  },
  {
   "cell_type": "code",
   "execution_count": null,
   "metadata": {},
   "outputs": [],
   "source": [
    "ds['rsdsdir'].mean(dim=['rlat','rlon']).plot(x='time');"
   ]
  },
  {
   "cell_type": "code",
   "execution_count": null,
   "metadata": {},
   "outputs": [],
   "source": [
    "ds.latitude.min().values, ds.latitude.max().values"
   ]
  },
  {
   "cell_type": "markdown",
   "metadata": {},
   "source": [
    "## split in latitude bins: mean direct monthly radiation"
   ]
  },
  {
   "cell_type": "code",
   "execution_count": null,
   "metadata": {},
   "outputs": [],
   "source": [
    "ds['rsdsdir'].groupby_bins('latitude', bins=np.arange(20,75,10)).mean(dim=['rlat','rlon']).plot(x='time', hue='latitude_bins');"
   ]
  }
 ],
 "metadata": {
  "kernelspec": {
   "display_name": "fe1py",
   "language": "python",
   "name": "fe1py"
  },
  "language_info": {
   "codemirror_mode": {
    "name": "ipython",
    "version": 3
   },
   "file_extension": ".py",
   "mimetype": "text/x-python",
   "name": "python",
   "nbconvert_exporter": "python",
   "pygments_lexer": "ipython3",
   "version": "3.12.9"
  }
 },
 "nbformat": 4,
 "nbformat_minor": 5
}
