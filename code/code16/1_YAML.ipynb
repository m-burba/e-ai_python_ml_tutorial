{
 "cells": [
  {
   "cell_type": "markdown",
   "id": "a5ee26de-f200-4a74-8fbe-ec601a085b80",
   "metadata": {},
   "source": [
    "# YAML Configuration"
   ]
  },
  {
   "cell_type": "code",
   "execution_count": 1,
   "id": "330aeef7-8b48-429f-bbc4-de46684fb1fc",
   "metadata": {},
   "outputs": [
    {
     "name": "stdout",
     "output_type": "stream",
     "text": [
      "Requirement already satisfied: pyyaml in /home/rolan/all/ropy_wsl/lib/python3.12/site-packages (6.0.1)\n"
     ]
    }
   ],
   "source": [
    "!pip install pyyaml"
   ]
  },
  {
   "cell_type": "code",
   "execution_count": 2,
   "id": "bca477bc-7981-4854-8c08-96a1b7eefb6a",
   "metadata": {},
   "outputs": [],
   "source": [
    "# Save a basic config to a file\n",
    "import yaml\n",
    "\n",
    "config_data = {\n",
    "    \"model\": {\n",
    "        \"name\": \"simple_model\",\n",
    "        \"input_size\": 10,\n",
    "        \"hidden_size\": 20,\n",
    "        \"output_size\": 1\n",
    "    },\n",
    "    \"training\": {\n",
    "        \"epochs\": 5,\n",
    "        \"batch_size\": 32,\n",
    "        \"learning_rate\": 0.01\n",
    "    }\n",
    "}\n",
    "\n",
    "with open(\"simple_config.yaml\", \"w\") as file:\n",
    "    yaml.dump(config_data, file)"
   ]
  },
  {
   "cell_type": "code",
   "execution_count": 3,
   "id": "3ae5115e-bfd8-4f78-bf42-e9c033ee0fee",
   "metadata": {},
   "outputs": [
    {
     "name": "stdout",
     "output_type": "stream",
     "text": [
      "Model name: simple_model\n",
      "Training for 5 epochs\n"
     ]
    }
   ],
   "source": [
    "# Load the config\n",
    "with open(\"simple_config.yaml\", \"r\") as file:\n",
    "    config = yaml.safe_load(file)\n",
    "\n",
    "# Access config values\n",
    "print(\"Model name:\", config[\"model\"][\"name\"])\n",
    "print(\"Training for\", config[\"training\"][\"epochs\"], \"epochs\")"
   ]
  },
  {
   "cell_type": "code",
   "execution_count": 4,
   "id": "b7db0beb-8002-4e8e-bc70-f10d94f11f02",
   "metadata": {},
   "outputs": [
    {
     "name": "stdout",
     "output_type": "stream",
     "text": [
      "Training model 'simple_model'\n",
      "Hyperparameters:\n",
      "  Learning rate: 0.01\n",
      "  Batch size: 32\n",
      "Epoch 1/5... (pretending to train)\n",
      "Epoch 2/5... (pretending to train)\n",
      "Epoch 3/5... (pretending to train)\n",
      "Epoch 4/5... (pretending to train)\n",
      "Epoch 5/5... (pretending to train)\n"
     ]
    }
   ],
   "source": [
    "def train_model(config):\n",
    "    print(f\"Training model '{config['model']['name']}'\")\n",
    "    print(\"Hyperparameters:\")\n",
    "    print(\"  Learning rate:\", config[\"training\"][\"learning_rate\"])\n",
    "    print(\"  Batch size:\", config[\"training\"][\"batch_size\"])\n",
    "    for epoch in range(config[\"training\"][\"epochs\"]):\n",
    "        print(f\"Epoch {epoch+1}/{config['training']['epochs']}... (pretending to train)\")\n",
    "\n",
    "train_model(config)"
   ]
  },
  {
   "cell_type": "code",
   "execution_count": null,
   "id": "a6f1bc9b-5d97-440d-bc36-0706cc68ad86",
   "metadata": {},
   "outputs": [],
   "source": []
  }
 ],
 "metadata": {
  "kernelspec": {
   "display_name": "Python 3 (ipykernel)",
   "language": "python",
   "name": "python3"
  },
  "language_info": {
   "codemirror_mode": {
    "name": "ipython",
    "version": 3
   },
   "file_extension": ".py",
   "mimetype": "text/x-python",
   "name": "python",
   "nbconvert_exporter": "python",
   "pygments_lexer": "ipython3",
   "version": "3.12.3"
  }
 },
 "nbformat": 4,
 "nbformat_minor": 5
}
